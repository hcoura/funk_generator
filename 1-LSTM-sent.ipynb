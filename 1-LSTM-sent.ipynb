{
 "cells": [
  {
   "cell_type": "code",
   "execution_count": 2,
   "metadata": {},
   "outputs": [],
   "source": [
    "from keras.callbacks import LambdaCallback\n",
    "from keras.models import Sequential\n",
    "from keras.layers import Dense, Activation\n",
    "from keras.layers import LSTM\n",
    "from keras.optimizers import RMSprop\n",
    "from keras.utils.data_utils import get_file\n",
    "\n",
    "import numpy as np\n",
    "import random\n",
    "import sys\n",
    "import io\n",
    "import sqlite3"
   ]
  },
  {
   "cell_type": "code",
   "execution_count": 8,
   "metadata": {},
   "outputs": [],
   "source": [
    "conn = sqlite3.connect('funk_crawler/songs.db')\n",
    "cursor = conn.cursor()"
   ]
  },
  {
   "cell_type": "code",
   "execution_count": 9,
   "metadata": {},
   "outputs": [],
   "source": [
    "cursor.execute('SELECT text from songs')\n",
    "songs = cursor.fetchall()\n",
    "text = '\\n'.join([song[0] for song in songs])"
   ]
  },
  {
   "cell_type": "code",
   "execution_count": 10,
   "metadata": {},
   "outputs": [],
   "source": [
    "import unicodedata\n",
    "import string\n",
    "\n",
    "def shave_marks_latin(txt):\n",
    "    norm_text = unicodedata.normalize('NFD', txt)\n",
    "    latin_base = False\n",
    "    keepers = []\n",
    "    for c in norm_text:\n",
    "        if unicodedata.combining(c) and latin_base:\n",
    "            continue\n",
    "        keepers.append(c)\n",
    "        if not unicodedata.combining(c):\n",
    "            latin_base = c in string.ascii_letters\n",
    "    shaved = ''.join(keepers)\n",
    "    return unicodedata.normalize('NFC', shaved)"
   ]
  },
  {
   "cell_type": "code",
   "execution_count": 11,
   "metadata": {},
   "outputs": [],
   "source": [
    "text = shave_marks_latin(text).lower()"
   ]
  },
  {
   "cell_type": "code",
   "execution_count": 12,
   "metadata": {},
   "outputs": [],
   "source": [
    "import re\n",
    "letter_space_re = re.compile(r'[^a-z\\s]')"
   ]
  },
  {
   "cell_type": "code",
   "execution_count": 13,
   "metadata": {},
   "outputs": [],
   "source": [
    "text = letter_space_re.sub('', text)"
   ]
  },
  {
   "cell_type": "code",
   "execution_count": 15,
   "metadata": {},
   "outputs": [],
   "source": [
    "tokenizer = re.compile(r'\\s+')\n",
    "sentences_tokens = [tokenizer.split(s) for s in sentences]"
   ]
  },
  {
   "cell_type": "code",
   "execution_count": 17,
   "metadata": {},
   "outputs": [],
   "source": [
    "words = set([w for s in sentences_tokens for w in s])"
   ]
  },
  {
   "cell_type": "code",
   "execution_count": 18,
   "metadata": {},
   "outputs": [
    {
     "data": {
      "text/plain": [
       "29007"
      ]
     },
     "execution_count": 18,
     "metadata": {},
     "output_type": "execute_result"
    }
   ],
   "source": [
    "len(words)"
   ]
  },
  {
   "cell_type": "code",
   "execution_count": 19,
   "metadata": {},
   "outputs": [],
   "source": [
    "word_indices = dict((c, i) for i, c in enumerate(words))\n",
    "indices_word = dict((i, c) for i, c in enumerate(words))"
   ]
  },
  {
   "cell_type": "code",
   "execution_count": 22,
   "metadata": {},
   "outputs": [
    {
     "name": "stdout",
     "output_type": "stream",
     "text": [
      "maxlen: 275\n"
     ]
    }
   ],
   "source": [
    "maxlen = 0\n",
    "\n",
    "for sentence in sentences_tokens:\n",
    "    if len(sentence) > maxlen:\n",
    "        maxlen = len(sentence)\n",
    "\n",
    "print(f'maxlen: {maxlen}')"
   ]
  },
  {
   "cell_type": "code",
   "execution_count": 13,
   "metadata": {},
   "outputs": [],
   "source": [
    "x = np.zeros((len(sentences), maxlen, len(words)), dtype=np.bool)\n",
    "y = np.zeros((len(sentences), len(words)), dtype=np.bool)\n",
    "for i, sentence in enumerate(sentences_tokens):\n",
    "    for t, word in enumerate(sentence):\n",
    "        x[i, t, word_indices[word]] = 1\n",
    "    y[i, word_indices[next_chars[i]]] = 1"
   ]
  },
  {
   "cell_type": "code",
   "execution_count": 14,
   "metadata": {},
   "outputs": [
    {
     "name": "stdout",
     "output_type": "stream",
     "text": [
      "Build model...\n"
     ]
    }
   ],
   "source": [
    "print('Build model...')\n",
    "model = Sequential()\n",
    "model.add(LSTM(128, input_shape=(maxlen, len(chars))))\n",
    "model.add(Dense(len(chars)))\n",
    "model.add(Activation('softmax'))"
   ]
  },
  {
   "cell_type": "code",
   "execution_count": 15,
   "metadata": {},
   "outputs": [],
   "source": [
    "optimizer = RMSprop(lr=0.01)\n",
    "model.compile(loss='categorical_crossentropy', optimizer=optimizer)"
   ]
  },
  {
   "cell_type": "code",
   "execution_count": 16,
   "metadata": {},
   "outputs": [],
   "source": [
    "def sample(preds, temperature=1.0):\n",
    "    # helper function to sample an index from a probability array\n",
    "    preds = np.asarray(preds).astype('float64')\n",
    "    preds = np.log(preds) / temperature\n",
    "    exp_preds = np.exp(preds)\n",
    "    preds = exp_preds / np.sum(exp_preds)\n",
    "    probas = np.random.multinomial(1, preds, 1)\n",
    "    return np.argmax(probas)"
   ]
  },
  {
   "cell_type": "code",
   "execution_count": 17,
   "metadata": {},
   "outputs": [],
   "source": [
    "def on_epoch_end(epoch, logs):\n",
    "    # Function invoked at end of each epoch. Prints generated text.\n",
    "    print()\n",
    "    print('----- Generating text after Epoch: %d' % epoch)\n",
    "\n",
    "    start_index = random.randint(0, len(text) - maxlen - 1)\n",
    "    for diversity in [0.2, 0.5, 1.0, 1.2]:\n",
    "        print('----- diversity:', diversity)\n",
    "\n",
    "        generated = ''\n",
    "        sentence = text[start_index: start_index + maxlen]\n",
    "        generated += sentence\n",
    "        print('----- Generating with seed: \"' + sentence + '\"')\n",
    "        sys.stdout.write(generated)\n",
    "\n",
    "        for i in range(400):\n",
    "            x_pred = np.zeros((1, maxlen, len(chars)))\n",
    "            for t, char in enumerate(sentence):\n",
    "                x_pred[0, t, char_indices[char]] = 1.\n",
    "\n",
    "            preds = model.predict(x_pred, verbose=0)[0]\n",
    "            next_index = sample(preds, diversity)\n",
    "            next_char = indices_char[next_index]\n",
    "\n",
    "            generated += next_char\n",
    "            sentence = sentence[1:] + next_char\n",
    "\n",
    "            sys.stdout.write(next_char)\n",
    "            sys.stdout.flush()\n",
    "        print()"
   ]
  },
  {
   "cell_type": "markdown",
   "metadata": {},
   "source": [
    "On CPU 4 hours per epoch, on GPU 10 min"
   ]
  },
  {
   "cell_type": "code",
   "execution_count": 18,
   "metadata": {},
   "outputs": [
    {
     "name": "stdout",
     "output_type": "stream",
     "text": [
      "Epoch 1/5\n",
      "1542756/1542756 [==============================] - 616s 399us/step - loss: 1.6961\n",
      "Epoch 2/5\n",
      "1542756/1542756 [==============================] - 616s 399us/step - loss: 1.5666\n",
      "Epoch 3/5\n",
      "1542756/1542756 [==============================] - 616s 399us/step - loss: 1.6957\n",
      "Epoch 4/5\n",
      "1542756/1542756 [==============================] - 615s 399us/step - loss: 6.8495\n",
      "Epoch 5/5\n",
      "1542756/1542756 [==============================] - 615s 399us/step - loss: 4.7786\n"
     ]
    },
    {
     "data": {
      "text/plain": [
       "<keras.callbacks.History at 0x197d2289710>"
      ]
     },
     "execution_count": 18,
     "metadata": {},
     "output_type": "execute_result"
    }
   ],
   "source": [
    "print_callback = LambdaCallback(on_epoch_end=on_epoch_end)\n",
    "\n",
    "model.fit(x, y,\n",
    "          batch_size=128,\n",
    "          epochs=5,\n",
    "#           callbacks=[print_callback]\n",
    "         )"
   ]
  },
  {
   "cell_type": "code",
   "execution_count": 26,
   "metadata": {},
   "outputs": [],
   "source": [
    "model.save('model.h5')"
   ]
  },
  {
   "cell_type": "code",
   "execution_count": 25,
   "metadata": {},
   "outputs": [
    {
     "name": "stdout",
     "output_type": "stream",
     "text": [
      "Epoch 1/2\n",
      "1542756/1542756 [==============================] - 651s 422us/step - loss: 3.8854\n",
      "Epoch 2/2\n",
      "1542756/1542756 [==============================] - 662s 429us/step - loss: 3.8532\n"
     ]
    },
    {
     "data": {
      "text/plain": [
       "<keras.callbacks.History at 0x197d15a9588>"
      ]
     },
     "execution_count": 25,
     "metadata": {},
     "output_type": "execute_result"
    }
   ],
   "source": [
    "model.fit(x, y,\n",
    "          batch_size=128,\n",
    "          epochs=2,\n",
    "#           callbacks=[print_callback]\n",
    "         )"
   ]
  },
  {
   "cell_type": "code",
   "execution_count": 23,
   "metadata": {},
   "outputs": [
    {
     "name": "stdout",
     "output_type": "stream",
     "text": [
      "----- diversity: 0.2\n",
      "----- Generating with seed: \"senta novinha\"\n",
      "senta novinhae   e    aoa "
     ]
    },
    {
     "name": "stderr",
     "output_type": "stream",
     "text": [
      "c:\\users\\henrique\\.virtualenvs\\funk_generator-_z5hejxh\\lib\\site-packages\\ipykernel_launcher.py:4: RuntimeWarning: divide by zero encountered in log\n",
      "  after removing the cwd from sys.path.\n"
     ]
    },
    {
     "name": "stdout",
     "output_type": "stream",
     "text": [
      "o  u aaeu o oao     ouema  en  a a a  m  a e      n  ea  o   ae  a aob a a ooaa  o n  o o oa e n oa e e  n o  a ae  ae 6sa  oa  aw       e    aa aoaa oooe  mao aaea    oea   xe  oaota     aa e     oaea      e  ea   o  e e      a       eoee  ana t ea a   a aan  o    r    oo co aoe o  uos eaoo e   a   e   aoo   o          eso a    o  aaaaee a e  n  d  a e o oe  xa      aea    e as  a no\n",
      "----- diversity: 0.5\n",
      "----- Generating with seed: \"senta novinha\"\n",
      "senta novinhao dae eo ieao ost igso  snuc emermrua xrn e nnen   mae  o i aiasen \n",
      " ors e i   e ada   a o m\n",
      "m coau e\n",
      "aan tmoaurmecameue  u    norooeau e ao on e e ta t  de u n 0a taneoaeraaaf seaomoromueana ere seed uoam  ooenam e a aeoon x enr tmama e   aaao  oue  eeam ooaooarl as  aevaim aam amh ol  eovnea naia  aee e m moolma m s hde  oe8aemaasocto\n",
      "saaeu ad   m eei  xsl  esao  aerdaanaeao eroe aeooaeaad m   s\n",
      "----- diversity: 1.0\n",
      "----- Generating with seed: \"senta novinha\"\n",
      "senta novinhaoa\n",
      "eruemlmaeaeeuaaaauei su r ssco rn erhtircaei \n",
      "e  dauseetd\n",
      " \n",
      " tnmoiaar atmn rqo laaoolrareaes cain e\n",
      "oa aet   saass iiead e\n",
      "sra a\n",
      "nde cac  ai aeiordmc\n",
      " o\n",
      "sd renraluae oon sn  mmoaaoa ddeulce a o a ouo \n",
      "oata\n",
      "aoe ac\n",
      " oaxcoure  d  i eata axrs roua \n",
      "aaaoorco de u\n",
      "    suia donmaa\n",
      "lom   asaanaearaaanneieanoic  oaa aenrii d teu  e \n",
      " ado\n",
      "rriedaa\n",
      "mu\n",
      "c   id ueaooo neostoaoia tmlro rosoe deaana dsraidaardr\n",
      "----- diversity: 1.2\n",
      "----- Generating with seed: \"senta novinha\"\n",
      "senta novinhaaoeeemrha oomm lonna eaaotarxnhuna a\n",
      "suloaonceeodce  rxutmoaldciraaaar roddeltiaao\n",
      "audcd\n",
      "u\n",
      "reeadq ldcmleoadeareoudsrmi tdoalmuecm solenmcmusaao\n",
      "  eeoodulenaic sdaprneoi \n",
      "eearo aa lounomasr r\n",
      "maaiha iea\n",
      "eodeueo   ar\n",
      " oatue \n",
      "eai \n",
      "edoel anax ahraq eo  huu rrestsoro en  nllal usanor turam as\n",
      "atntdasdbe  saiu\n",
      "tkn m udue  \n",
      "hdle ad ur adelanadxeaene io  irlahecu\n",
      "mcoinma e\n",
      "rrnao\n",
      "tti  otcr t\n",
      "nmiler mamesd \n"
     ]
    }
   ],
   "source": [
    "for diversity in [0.2, 0.5, 1.0, 1.2]:\n",
    "    print('----- diversity:', diversity)\n",
    "\n",
    "    generated = ''\n",
    "    sentence = \"senta novinha\"\n",
    "    generated += sentence\n",
    "    print('----- Generating with seed: \"' + sentence + '\"')\n",
    "    sys.stdout.write(generated)\n",
    "\n",
    "    for i in range(400):\n",
    "        x_pred = np.zeros((1, maxlen, len(chars)))\n",
    "        for t, char in enumerate(sentence):\n",
    "            x_pred[0, t, char_indices[char]] = 1.\n",
    "\n",
    "        preds = model.predict(x_pred, verbose=0)[0]\n",
    "        next_index = sample(preds, diversity)\n",
    "        next_char = indices_char[next_index]\n",
    "\n",
    "        generated += next_char\n",
    "        sentence = sentence[1:] + next_char\n",
    "\n",
    "        sys.stdout.write(next_char)\n",
    "        sys.stdout.flush()\n",
    "    print()"
   ]
  }
 ],
 "metadata": {
  "kernelspec": {
   "display_name": "Python 3",
   "language": "python",
   "name": "python3"
  },
  "language_info": {
   "codemirror_mode": {
    "name": "ipython",
    "version": 3
   },
   "file_extension": ".py",
   "mimetype": "text/x-python",
   "name": "python",
   "nbconvert_exporter": "python",
   "pygments_lexer": "ipython3",
   "version": "3.6.2"
  }
 },
 "nbformat": 4,
 "nbformat_minor": 2
}
