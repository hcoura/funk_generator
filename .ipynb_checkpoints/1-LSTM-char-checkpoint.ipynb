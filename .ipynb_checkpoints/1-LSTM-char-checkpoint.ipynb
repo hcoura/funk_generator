{
 "cells": [
  {
   "cell_type": "code",
   "execution_count": 1,
   "metadata": {},
   "outputs": [
    {
     "name": "stderr",
     "output_type": "stream",
     "text": [
      "c:\\users\\henrique\\.virtualenvs\\funk_generator-_z5hejxh\\lib\\site-packages\\h5py\\__init__.py:36: FutureWarning: Conversion of the second argument of issubdtype from `float` to `np.floating` is deprecated. In future, it will be treated as `np.float64 == np.dtype(float).type`.\n",
      "  from ._conv import register_converters as _register_converters\n",
      "Using TensorFlow backend.\n"
     ]
    }
   ],
   "source": [
    "from keras.callbacks import LambdaCallback\n",
    "from keras.models import Sequential\n",
    "from keras.layers import Dense, Activation\n",
    "from keras.layers import LSTM\n",
    "from keras.optimizers import RMSprop\n",
    "from keras.utils.data_utils import get_file\n",
    "import numpy as np\n",
    "import random\n",
    "import sys\n",
    "import io\n",
    "import sqlite3"
   ]
  },
  {
   "cell_type": "code",
   "execution_count": 2,
   "metadata": {},
   "outputs": [],
   "source": [
    "conn = sqlite3.connect('funk_crawler/songs.db')\n",
    "cursor = conn.cursor()"
   ]
  },
  {
   "cell_type": "code",
   "execution_count": 3,
   "metadata": {},
   "outputs": [],
   "source": [
    "cursor.execute('SELECT text from songs')\n",
    "songs = cursor.fetchall()\n",
    "songs = '\\n'.join([song[0] for song in songs])"
   ]
  },
  {
   "cell_type": "code",
   "execution_count": 12,
   "metadata": {},
   "outputs": [],
   "source": [
    "# NORMALIZE!"
   ]
  },
  {
   "cell_type": "code",
   "execution_count": 4,
   "metadata": {},
   "outputs": [
    {
     "name": "stdout",
     "output_type": "stream",
     "text": [
      "total chars: 168\n"
     ]
    }
   ],
   "source": [
    "chars = sorted(list(set(songs)))\n",
    "print('total chars:', len(chars))\n",
    "char_indices = dict((c, i) for i, c in enumerate(chars))\n",
    "indices_char = dict((i, c) for i, c in enumerate(chars))"
   ]
  },
  {
   "cell_type": "code",
   "execution_count": 5,
   "metadata": {},
   "outputs": [
    {
     "name": "stdout",
     "output_type": "stream",
     "text": [
      "nb sequences: 1579579\n"
     ]
    }
   ],
   "source": [
    "# cut the text in semi-redundant sequences of maxlen characters\n",
    "maxlen = 40\n",
    "step = 3\n",
    "sentences = []\n",
    "next_chars = []\n",
    "for i in range(0, len(songs) - maxlen, step):\n",
    "    sentences.append(songs[i: i + maxlen])\n",
    "    next_chars.append(songs[i + maxlen])\n",
    "print('nb sequences:', len(sentences))"
   ]
  },
  {
   "cell_type": "code",
   "execution_count": 6,
   "metadata": {},
   "outputs": [],
   "source": [
    "x = np.zeros((len(sentences), maxlen, len(chars)), dtype=np.bool)\n",
    "y = np.zeros((len(sentences), len(chars)), dtype=np.bool)\n",
    "for i, sentence in enumerate(sentences):\n",
    "    for t, char in enumerate(sentence):\n",
    "        x[i, t, char_indices[char]] = 1\n",
    "    y[i, char_indices[next_chars[i]]] = 1"
   ]
  },
  {
   "cell_type": "code",
   "execution_count": 7,
   "metadata": {},
   "outputs": [
    {
     "name": "stdout",
     "output_type": "stream",
     "text": [
      "Build model...\n"
     ]
    }
   ],
   "source": [
    "print('Build model...')\n",
    "model = Sequential()\n",
    "model.add(LSTM(128, input_shape=(maxlen, len(chars))))\n",
    "model.add(Dense(len(chars)))\n",
    "model.add(Activation('softmax'))"
   ]
  },
  {
   "cell_type": "code",
   "execution_count": 8,
   "metadata": {},
   "outputs": [],
   "source": [
    "optimizer = RMSprop(lr=0.01)\n",
    "model.compile(loss='categorical_crossentropy', optimizer=optimizer)"
   ]
  },
  {
   "cell_type": "code",
   "execution_count": 9,
   "metadata": {},
   "outputs": [],
   "source": [
    "def sample(preds, temperature=1.0):\n",
    "    # helper function to sample an index from a probability array\n",
    "    preds = np.asarray(preds).astype('float64')\n",
    "    preds = np.log(preds) / temperature\n",
    "    exp_preds = np.exp(preds)\n",
    "    preds = exp_preds / np.sum(exp_preds)\n",
    "    probas = np.random.multinomial(1, preds, 1)\n",
    "    return np.argmax(probas)"
   ]
  },
  {
   "cell_type": "code",
   "execution_count": 13,
   "metadata": {},
   "outputs": [],
   "source": [
    "def on_epoch_end(epoch, logs):\n",
    "    # Function invoked at end of each epoch. Prints generated text.\n",
    "    print()\n",
    "    print('----- Generating text after Epoch: %d' % epoch)\n",
    "\n",
    "    start_index = random.randint(0, len(songs) - maxlen - 1)\n",
    "    for diversity in [0.2, 0.5, 1.0, 1.2]:\n",
    "        print('----- diversity:', diversity)\n",
    "\n",
    "        generated = ''\n",
    "        sentence = songs[start_index: start_index + maxlen]\n",
    "        generated += sentence\n",
    "        print('----- Generating with seed: \"' + sentence + '\"')\n",
    "        sys.stdout.write(generated)\n",
    "\n",
    "        for i in range(400):\n",
    "            x_pred = np.zeros((1, maxlen, len(chars)))\n",
    "            for t, char in enumerate(sentence):\n",
    "                x_pred[0, t, char_indices[char]] = 1.\n",
    "\n",
    "            preds = model.predict(x_pred, verbose=0)[0]\n",
    "            next_index = sample(preds, diversity)\n",
    "            next_char = indices_char[next_index]\n",
    "\n",
    "            generated += next_char\n",
    "            sentence = sentence[1:] + next_char\n",
    "\n",
    "            sys.stdout.write(next_char)\n",
    "            sys.stdout.flush()\n",
    "        print()"
   ]
  },
  {
   "cell_type": "markdown",
   "metadata": {},
   "source": [
    "On CPU 4 hours per epoch, on GPU 10 min"
   ]
  },
  {
   "cell_type": "code",
   "execution_count": 15,
   "metadata": {},
   "outputs": [
    {
     "name": "stdout",
     "output_type": "stream",
     "text": [
      "Epoch 1/1\n",
      "1579579/1579579 [==============================] - 678s 429us/step - loss: 1.6979\n",
      "\n",
      "----- Generating text after Epoch: 0\n",
      "----- diversity: 0.2\n",
      "----- Generating with seed: \"o\n",
      "O Nóis aê\n",
      "Se você não conhece\n",
      "Então Ve\"\n",
      "o\n",
      "O Nóis aê\n",
      "Se você não conhece\n",
      "Então Vem mais de mim de boca de mim\n",
      "Eu tô que eu tô promesa e me deixa eu vou te dar um salve\n",
      "Eu vou te dar um perto\n",
      "E a minha vida de cara de tudo de cara\n",
      "Porque eu sou de parada e a parada\n",
      "E a pode e de mulher\n",
      "A vida de cara de balada\n",
      "E a parada de mulher\n",
      "E a minha vida de mim vai ser prostituto\n",
      "A senta e você vai ser pra comprovistar\n",
      "E a mina se vem de minha porrada\n",
      "E a minha vida de boca de mais pra \n",
      "----- diversity: 0.5\n",
      "----- Generating with seed: \"o\n",
      "O Nóis aê\n",
      "Se você não conhece\n",
      "Então Ve\"\n",
      "o\n",
      "O Nóis aê\n",
      "Se você não conhece\n",
      "Então Vem pro sina a cara\n",
      "Ela se ela tá vem da minha fama vai recalcar\n",
      "Se não pega pra consigo a solta de boca voz\n",
      "Bate na mão a cabela xana pode de minha vida na prata\n",
      "Eu não tem consigo vai enter, chega a cabeça de mulher\n",
      "E essa é você mais vez para de verdade\n",
      "Eu esto pela baixada é de contigo\n",
      "E desce, ela se eu vou contar louco\n",
      "E na minha vida ao meu tento no baile de chama,\n",
      "Eu sou no papo e comprovist\n",
      "----- diversity: 1.0\n",
      "----- Generating with seed: \"o\n",
      "O Nóis aê\n",
      "Se você não conhece\n",
      "Então Ve\"\n",
      "o\n",
      "O Nóis aê\n",
      "Se você não conhece\n",
      "Então Vem da noite de\n",
      "Cuidade a nabecudo\n",
      "A mesta, que\n",
      "Gicaneca  tô com sete liki, crista-se essa mina de verdade vai\n",
      "Agora o canação viz doide\n",
      "Sô, a idenação (ranalel a pernada, falta\n",
      "vencipo com causar voltando minhas gente ão senta\n",
      "Amor! (u.. jogando a parade Lembrando\n",
      "O seu Equereco preparada\n",
      "E sata Redice\n",
      "scolou do amono dias amor\n",
      "Ela poder, ch perdar, parando com meus moral\n",
      "Cinco bonso sem furuca gra\n",
      "----- diversity: 1.2\n",
      "----- Generating with seed: \"o\n",
      "O Nóis aê\n",
      "Se você não conhece\n",
      "Então Ve\"\n",
      "o\n",
      "O Nóis aê\n",
      "Se você não conhece\n",
      "Então Vem dançando de fã top\n",
      "Do you bachonfeze.Vio, eu não sou se Deus x-crifista\n",
      "Pa, aconta, se mocingo,\n",
      "vem pesar\n",
      "quero você ter\n",
      "vem\n",
      "\n",
      "\n",
      "\n",
      "Mais podeiaaa eu ela passa\n",
      "Bota Quando pensa na bigabaque\n",
      "tardia com Nittiná, que o our (xó, eite, pra elgular\n",
      "Ipaque um amor\n",
      "Toícage no balada...\n",
      "E esse vitão voziplaquelhou\n",
      "E maluco caêer\n",
      "Mandaéo\n",
      "Ela  zé que abre e akuafoga, sinuradado do me, partimp\n",
      "ptratinho da limi\n"
     ]
    },
    {
     "data": {
      "text/plain": [
       "<keras.callbacks.History at 0x2500c1bafd0>"
      ]
     },
     "execution_count": 15,
     "metadata": {},
     "output_type": "execute_result"
    }
   ],
   "source": [
    "print_callback = LambdaCallback(on_epoch_end=on_epoch_end)\n",
    "\n",
    "model.fit(x, y,\n",
    "          batch_size=128,\n",
    "          epochs=1,\n",
    "#           callbacks=[print_callback]\n",
    "         )"
   ]
  },
  {
   "cell_type": "code",
   "execution_count": null,
   "metadata": {},
   "outputs": [
    {
     "name": "stdout",
     "output_type": "stream",
     "text": [
      "Epoch 1/4\n",
      " 890752/1579579 [===============>..............] - ETA: 5:01 - loss: 1.6816"
     ]
    }
   ],
   "source": [
    "model.fit(x, y,\n",
    "          batch_size=128,\n",
    "          epochs=4,\n",
    "          callbacks=[print_callback])"
   ]
  },
  {
   "cell_type": "code",
   "execution_count": null,
   "metadata": {},
   "outputs": [],
   "source": []
  }
 ],
 "metadata": {
  "kernelspec": {
   "display_name": "Python 3",
   "language": "python",
   "name": "python3"
  },
  "language_info": {
   "codemirror_mode": {
    "name": "ipython",
    "version": 3
   },
   "file_extension": ".py",
   "mimetype": "text/x-python",
   "name": "python",
   "nbconvert_exporter": "python",
   "pygments_lexer": "ipython3",
   "version": "3.6.2"
  }
 },
 "nbformat": 4,
 "nbformat_minor": 2
}
